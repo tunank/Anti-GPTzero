{
 "cells": [
  {
   "cell_type": "code",
   "id": "initial_id",
   "metadata": {
    "collapsed": true,
    "ExecuteTime": {
     "end_time": "2025-03-17T00:18:07.487583Z",
     "start_time": "2025-03-17T00:18:07.485133Z"
    }
   },
   "source": [
    "import torch\n",
    "import random\n",
    "import numpy as np\n",
    "from transformers import T5Tokenizer\n",
    "from data.preprocessing import DataPreprocessor\n",
    "from data.dataset import TextHumanizerDataset\n",
    "from model.model import TextHumanizerModel\n",
    "from model.trainer import Trainer\n",
    "from config import Config\n",
    "import os"
   ],
   "outputs": [],
   "execution_count": 12
  },
  {
   "metadata": {
    "ExecuteTime": {
     "end_time": "2025-03-17T00:14:38.604405Z",
     "start_time": "2025-03-17T00:14:38.601695Z"
    }
   },
   "cell_type": "code",
   "source": [
    "def set_seed(seed):\n",
    "    \"\"\"Set random seed for reproducibility\"\"\"\n",
    "    random.seed(seed)\n",
    "    np.random.seed(seed)\n",
    "    torch.manual_seed(seed)\n",
    "    if torch.cuda.is_available():\n",
    "        torch.cuda.manual_seed_all(seed)"
   ],
   "id": "2f4c316f4eb28077",
   "outputs": [],
   "execution_count": 3
  },
  {
   "metadata": {
    "ExecuteTime": {
     "end_time": "2025-03-17T00:14:53.672610Z",
     "start_time": "2025-03-17T00:14:53.665306Z"
    }
   },
   "cell_type": "code",
   "source": [
    "config = Config()\n",
    "\n",
    "set_seed(config.RANDOM_SEED)"
   ],
   "id": "2ba029b47b45a90c",
   "outputs": [],
   "execution_count": 4
  },
  {
   "metadata": {
    "ExecuteTime": {
     "end_time": "2025-03-17T00:15:00.111765Z",
     "start_time": "2025-03-17T00:15:00.109721Z"
    }
   },
   "cell_type": "code",
   "source": [
    "if not os.path.exists(config.MODEL_SAVE_PATH):\n",
    "    os.makedirs(config.MODEL_SAVE_PATH)"
   ],
   "id": "464dfe3522f92c71",
   "outputs": [],
   "execution_count": 5
  },
  {
   "metadata": {
    "ExecuteTime": {
     "end_time": "2025-03-17T00:15:08.683450Z",
     "start_time": "2025-03-17T00:15:08.528777Z"
    }
   },
   "cell_type": "code",
   "source": "tokenizer = T5Tokenizer.from_pretrained(config.MODEL_NAME)",
   "id": "299c8c5425ae9ec6",
   "outputs": [],
   "execution_count": 7
  },
  {
   "metadata": {
    "ExecuteTime": {
     "end_time": "2025-03-17T00:15:20.997599Z",
     "start_time": "2025-03-17T00:15:19.659220Z"
    }
   },
   "cell_type": "code",
   "source": [
    "print(\"Preparing dataset...\")\n",
    "preprocessor = DataPreprocessor()\n",
    "datasets = preprocessor.prepare_dataset()"
   ],
   "id": "9c4886181737c280",
   "outputs": [
    {
     "name": "stdout",
     "output_type": "stream",
     "text": [
      "Preparing dataset...\n",
      "Dataset loaded from Hugging Face\n",
      "Train: 16706, Validation: 3580, Test: 3581\n"
     ]
    }
   ],
   "execution_count": 8
  },
  {
   "metadata": {
    "ExecuteTime": {
     "end_time": "2025-03-17T00:19:20.869660Z",
     "start_time": "2025-03-17T00:19:20.849545Z"
    }
   },
   "cell_type": "code",
   "source": [
    "# Show the first 5 rows of the training dataset as DataFrame\n",
    "datasets['train'].to_pandas()"
   ],
   "id": "188eabd71026ee51",
   "outputs": [
    {
     "data": {
      "text/plain": [
       "                                                question  \\\n",
       "0      How do companies go public ? And more specific...   \n",
       "1                 How do I choose 401k investment funds?   \n",
       "2                 What are my risks of early assignment?   \n",
       "3      Why does running a strong enough magnet over a...   \n",
       "4      How does the government track people downloadi...   \n",
       "...                                                  ...   \n",
       "16701  Why congressmen all over the world refer to ea...   \n",
       "16702  The concept of abstraction in computer science...   \n",
       "16703  How can trading in General Motors stock be sus...   \n",
       "16704  Why are some foods \" Breakfast Foods \" and oth...   \n",
       "16705  Lactation How does the body know to lactate ? ...   \n",
       "\n",
       "                                                 ai_text  \\\n",
       "0      Sure! A company can go public by selling share...   \n",
       "1      Choosing the right investment funds for your 4...   \n",
       "2      Early assignment refers to the process of bein...   \n",
       "3      Hard drives store information on spinning disk...   \n",
       "4      The government can track people who download i...   \n",
       "...                                                  ...   \n",
       "16701  In legislative bodies like Congress or Parliam...   \n",
       "16702  Abstraction in computer science is a way of si...   \n",
       "16703  Trading in General Motors (GM) stock can be su...   \n",
       "16704  Some foods are traditionally eaten at certain ...   \n",
       "16705  Lactation is the process of producing milk in ...   \n",
       "\n",
       "                                              human_text  \n",
       "0      The biggest driver behind going public is the ...  \n",
       "1      I disagree strongly with chasing expenses. Don...  \n",
       "2      The put vs call assignment risk, is actually t...  \n",
       "3      The way a hard disk drive works is that it has...  \n",
       "4      I am not aware of any evidence of any western ...  \n",
       "...                                                  ...  \n",
       "16701  The legislators are not directly addressing an...  \n",
       "16702  Abstraction is the idea that the user of some ...  \n",
       "16703  The exchange always briefly suspends trading i...  \n",
       "16704  If you travel to parts of Asia you will find t...  \n",
       "16705  Ok I 'm I know some of this because I was preg...  \n",
       "\n",
       "[16706 rows x 3 columns]"
      ],
      "text/html": [
       "<div>\n",
       "<style scoped>\n",
       "    .dataframe tbody tr th:only-of-type {\n",
       "        vertical-align: middle;\n",
       "    }\n",
       "\n",
       "    .dataframe tbody tr th {\n",
       "        vertical-align: top;\n",
       "    }\n",
       "\n",
       "    .dataframe thead th {\n",
       "        text-align: right;\n",
       "    }\n",
       "</style>\n",
       "<table border=\"1\" class=\"dataframe\">\n",
       "  <thead>\n",
       "    <tr style=\"text-align: right;\">\n",
       "      <th></th>\n",
       "      <th>question</th>\n",
       "      <th>ai_text</th>\n",
       "      <th>human_text</th>\n",
       "    </tr>\n",
       "  </thead>\n",
       "  <tbody>\n",
       "    <tr>\n",
       "      <th>0</th>\n",
       "      <td>How do companies go public ? And more specific...</td>\n",
       "      <td>Sure! A company can go public by selling share...</td>\n",
       "      <td>The biggest driver behind going public is the ...</td>\n",
       "    </tr>\n",
       "    <tr>\n",
       "      <th>1</th>\n",
       "      <td>How do I choose 401k investment funds?</td>\n",
       "      <td>Choosing the right investment funds for your 4...</td>\n",
       "      <td>I disagree strongly with chasing expenses. Don...</td>\n",
       "    </tr>\n",
       "    <tr>\n",
       "      <th>2</th>\n",
       "      <td>What are my risks of early assignment?</td>\n",
       "      <td>Early assignment refers to the process of bein...</td>\n",
       "      <td>The put vs call assignment risk, is actually t...</td>\n",
       "    </tr>\n",
       "    <tr>\n",
       "      <th>3</th>\n",
       "      <td>Why does running a strong enough magnet over a...</td>\n",
       "      <td>Hard drives store information on spinning disk...</td>\n",
       "      <td>The way a hard disk drive works is that it has...</td>\n",
       "    </tr>\n",
       "    <tr>\n",
       "      <th>4</th>\n",
       "      <td>How does the government track people downloadi...</td>\n",
       "      <td>The government can track people who download i...</td>\n",
       "      <td>I am not aware of any evidence of any western ...</td>\n",
       "    </tr>\n",
       "    <tr>\n",
       "      <th>...</th>\n",
       "      <td>...</td>\n",
       "      <td>...</td>\n",
       "      <td>...</td>\n",
       "    </tr>\n",
       "    <tr>\n",
       "      <th>16701</th>\n",
       "      <td>Why congressmen all over the world refer to ea...</td>\n",
       "      <td>In legislative bodies like Congress or Parliam...</td>\n",
       "      <td>The legislators are not directly addressing an...</td>\n",
       "    </tr>\n",
       "    <tr>\n",
       "      <th>16702</th>\n",
       "      <td>The concept of abstraction in computer science...</td>\n",
       "      <td>Abstraction in computer science is a way of si...</td>\n",
       "      <td>Abstraction is the idea that the user of some ...</td>\n",
       "    </tr>\n",
       "    <tr>\n",
       "      <th>16703</th>\n",
       "      <td>How can trading in General Motors stock be sus...</td>\n",
       "      <td>Trading in General Motors (GM) stock can be su...</td>\n",
       "      <td>The exchange always briefly suspends trading i...</td>\n",
       "    </tr>\n",
       "    <tr>\n",
       "      <th>16704</th>\n",
       "      <td>Why are some foods \" Breakfast Foods \" and oth...</td>\n",
       "      <td>Some foods are traditionally eaten at certain ...</td>\n",
       "      <td>If you travel to parts of Asia you will find t...</td>\n",
       "    </tr>\n",
       "    <tr>\n",
       "      <th>16705</th>\n",
       "      <td>Lactation How does the body know to lactate ? ...</td>\n",
       "      <td>Lactation is the process of producing milk in ...</td>\n",
       "      <td>Ok I 'm I know some of this because I was preg...</td>\n",
       "    </tr>\n",
       "  </tbody>\n",
       "</table>\n",
       "<p>16706 rows × 3 columns</p>\n",
       "</div>"
      ]
     },
     "execution_count": 18,
     "metadata": {},
     "output_type": "execute_result"
    }
   ],
   "execution_count": 18
  },
  {
   "metadata": {
    "ExecuteTime": {
     "end_time": "2025-03-17T00:19:52.358468Z",
     "start_time": "2025-03-17T00:19:52.355822Z"
    }
   },
   "cell_type": "code",
   "source": [
    "# Create datasets\n",
    "train_dataset = TextHumanizerDataset(datasets['train'], tokenizer)\n",
    "val_dataset = TextHumanizerDataset(datasets['validation'], tokenizer)"
   ],
   "id": "6367dc27b75346c0",
   "outputs": [],
   "execution_count": 19
  },
  {
   "metadata": {
    "ExecuteTime": {
     "end_time": "2025-03-17T00:24:26.710118Z",
     "start_time": "2025-03-17T00:24:26.292546Z"
    }
   },
   "cell_type": "code",
   "source": [
    "# Initialize model\n",
    "print(\"Initializing model...\")\n",
    "model = TextHumanizerModel(config)"
   ],
   "id": "345c9ec5aa5adc08",
   "outputs": [
    {
     "name": "stdout",
     "output_type": "stream",
     "text": [
      "Initializing model...\n"
     ]
    }
   ],
   "execution_count": 20
  },
  {
   "metadata": {
    "ExecuteTime": {
     "end_time": "2025-03-17T00:24:54.224002Z",
     "start_time": "2025-03-17T00:24:54.217904Z"
    }
   },
   "cell_type": "code",
   "source": [
    "# Initialize trainer\n",
    "trainer = Trainer(model, tokenizer, train_dataset, val_dataset, config)"
   ],
   "id": "4dea32e8647d47ac",
   "outputs": [],
   "execution_count": 22
  },
  {
   "metadata": {},
   "cell_type": "code",
   "source": [
    "# Run here to start training\n",
    "print(\"Starting training...\")\n",
    "trainer.train()\n",
    "\n",
    "print(\"Training complete!\")"
   ],
   "id": "832f457e6e2f5b7b",
   "outputs": [],
   "execution_count": null
  }
 ],
 "metadata": {
  "kernelspec": {
   "display_name": "Python 3",
   "language": "python",
   "name": "python3"
  },
  "language_info": {
   "codemirror_mode": {
    "name": "ipython",
    "version": 2
   },
   "file_extension": ".py",
   "mimetype": "text/x-python",
   "name": "python",
   "nbconvert_exporter": "python",
   "pygments_lexer": "ipython2",
   "version": "2.7.6"
  }
 },
 "nbformat": 4,
 "nbformat_minor": 5
}
